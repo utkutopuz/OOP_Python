{
 "cells": [
  {
   "cell_type": "code",
   "execution_count": 38,
   "metadata": {},
   "outputs": [],
   "source": [
    "class Product:\n",
    "    def __init__(self, name:str=\"default\", price:float=0, quantity:int=1) -> None:\n",
    "        print(f\"An instance with name: {name} has been derived from Product class\")\n",
    "        \n",
    "        self.__name = name\n",
    "        self.__price = price\n",
    "        self.__quantity = quantity\n",
    "    \n",
    "    @property\n",
    "    def name(self):\n",
    "        return self.__name  #get bloğu\n",
    "    \n",
    "    @name.setter\n",
    "    def name(self, value:str)->None:#geriye bir şey döndürmez\n",
    "        self.__name = value  #set bloğu\n",
    "        \n",
    "    @property\n",
    "    def price(self):\n",
    "        return self.__price  #get bloğu\n",
    "    \n",
    "    @price.setter\n",
    "    def price(self, value):\n",
    "        self.__price = value  #set bloğu\n",
    "            \n",
    "    @property\n",
    "    def quantity(self):\n",
    "        return self.__quantity  #get bloğu\n",
    "    \n",
    "    @quantity.setter\n",
    "    def quantity(self, value):\n",
    "        self.__quantity = value  #set bloğu \n",
    "    #hem okuma hem yazma yapıldı\n",
    "    #yalnızca okuma için get bloğu yeterlidir. \n",
    "    \n",
    "    def get_total_price(self)->float:#geriye bir tane float dönücek, harici olarak parametre de almadığı için\n",
    "        return self.__price * self.__quantity\n",
    "    #bu metodun public olması, diğer sınıflar tarafından erişilmesini sağlar."
   ]
  },
  {
   "cell_type": "code",
   "execution_count": 39,
   "metadata": {},
   "outputs": [
    {
     "name": "stdout",
     "output_type": "stream",
     "text": [
      "An instance with name: Laptop has been derived from Product class\n",
      "HP Laptop\n",
      "699.99\n",
      "3\n",
      "2099.9700000000003\n"
     ]
    }
   ],
   "source": [
    "item1 = Product(\"Laptop\", 799.99, 2) #sınıftan türetme işlemi yapıldı\n",
    "item1.name = \"HP Laptop\"\n",
    "item1.price = 699.99\n",
    "item1.quantity = 3\n",
    "print(item1.name)\n",
    "print(item1.price)\n",
    "print(item1.quantity)\n",
    "#print(item1.get_total_price(item1.price, item1.quantity)) çok uzun bir ifade\n",
    "print(item1.get_total_price())\n",
    "\n"
   ]
  },
  {
   "cell_type": "code",
   "execution_count": 40,
   "metadata": {},
   "outputs": [
    {
     "name": "stdout",
     "output_type": "stream",
     "text": [
      "An instance with name: default has been derived from Product class\n"
     ]
    }
   ],
   "source": [
    "item2 = Product()\n",
    "#dinamik özellik tanımı\n",
    "item2.__name = \"Computer\"\n",
    "item2.__price = 1999.99\n",
    "item2.__quantity = 3"
   ]
  },
  {
   "cell_type": "code",
   "execution_count": 41,
   "metadata": {},
   "outputs": [
    {
     "name": "stdout",
     "output_type": "stream",
     "text": [
      "An instance with name: Computer has been derived from Product class\n",
      "Computer\n",
      "1999.99\n",
      "3\n"
     ]
    }
   ],
   "source": [
    "item2 = Product(\"Computer\", 1999.99, 3)\n",
    "\n",
    "print(item2.name)\n",
    "print(item2.price) \n",
    "print(item2.quantity)"
   ]
  },
  {
   "cell_type": "code",
   "execution_count": 42,
   "metadata": {},
   "outputs": [
    {
     "name": "stdout",
     "output_type": "stream",
     "text": [
      "An instance with name: Keyboard has been derived from Product class\n",
      "Keyboard\n",
      "25.99\n",
      "1\n"
     ]
    }
   ],
   "source": [
    "item3 = Product(\"Keyboard\", 25.99)\n",
    "\n",
    "print(item3.name)\n",
    "print(item3.price) \n",
    "print(item3.quantity)"
   ]
  }
 ],
 "metadata": {
  "kernelspec": {
   "display_name": "Python 3",
   "language": "python",
   "name": "python3"
  },
  "language_info": {
   "codemirror_mode": {
    "name": "ipython",
    "version": 3
   },
   "file_extension": ".py",
   "mimetype": "text/x-python",
   "name": "python",
   "nbconvert_exporter": "python",
   "pygments_lexer": "ipython3",
   "version": "3.12.0"
  }
 },
 "nbformat": 4,
 "nbformat_minor": 2
}
