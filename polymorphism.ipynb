{
 "cells": [
  {
   "cell_type": "code",
   "execution_count": 6,
   "metadata": {},
   "outputs": [],
   "source": [
    "class Product():\n",
    "    def __init__(self, name:str=\"default\", price:float=0, quantity:int=1) -> None:\n",
    "        print(f\"An instance with name: {name} has been derived from Product class\")\n",
    "        \n",
    "        self.__name = name\n",
    "        self.__price = price\n",
    "        self.__quantity = quantity\n",
    "    \n",
    "    @property\n",
    "    def name(self):\n",
    "        return self.__name  #get bloğu\n",
    "    \n",
    "    @name.setter\n",
    "    def name(self, value:str)->None:#geriye bir şey döndürmez\n",
    "        self.__name = value  #set bloğu\n",
    "        \n",
    "    @property\n",
    "    def price(self):\n",
    "        return self.__price  #get bloğu\n",
    "    \n",
    "    @price.setter\n",
    "    def price(self, value):\n",
    "        self.__price = value  #set bloğu\n",
    "            \n",
    "    @property\n",
    "    def quantity(self):\n",
    "        return self.__quantity  #get bloğu\n",
    "    \n",
    "    @quantity.setter\n",
    "    def quantity(self, value):\n",
    "        self.__quantity = value  #set bloğu \n",
    "    #hem okuma hem yazma yapıldı\n",
    "    #yalnızca okuma için get bloğu yeterlidir. \n",
    "    \n",
    "    def get_total_price(self)->float:#geriye bir tane float dönücek, harici olarak parametre de almadığı için\n",
    "        return self.__price * self.__quantity\n",
    "    \n",
    "    def __repr__(self):\n",
    "        return f\"{self.__name} - {self.__price} - {self.__quantity}\"\n",
    "    #çokbiçimlilik=varsayılan davranışı değiştirme\n",
    "    #base classtan devraldığımız ifade main yazmadan fiyat adet ve miktarı gösterir."
   ]
  },
  {
   "cell_type": "code",
   "execution_count": 7,
   "metadata": {},
   "outputs": [
    {
     "name": "stdout",
     "output_type": "stream",
     "text": [
      "An instance with name: Laptop has been derived from Product class\n",
      "HP Laptop - 799.99 - 2\n"
     ]
    }
   ],
   "source": [
    "item1 = Product(\"Laptop\", 799.99, 2) #sınıftan türetme işlemi yapıldı\n",
    "item1.name = \"HP Laptop\"\n",
    "print(item1)\n",
    "\n"
   ]
  },
  {
   "cell_type": "code",
   "execution_count": 8,
   "metadata": {},
   "outputs": [
    {
     "name": "stdout",
     "output_type": "stream",
     "text": [
      "An instance with name: Computer has been derived from Product class\n",
      "Computer - 1999.99 - 3\n"
     ]
    }
   ],
   "source": [
    "item2 = Product(\"Computer\")\n",
    "#dinamik özellik tanımı\n",
    "item2.price = 1999.99\n",
    "item2.quantity = 3\n",
    "print(item2)"
   ]
  },
  {
   "cell_type": "code",
   "execution_count": 9,
   "metadata": {},
   "outputs": [
    {
     "name": "stdout",
     "output_type": "stream",
     "text": [
      "An instance with name: Computer has been derived from Product class\n",
      "Computer\n",
      "1999.99\n",
      "3\n"
     ]
    }
   ],
   "source": [
    "item2 = Product(\"Computer\", 1999.99, 3)\n",
    "\n",
    "print(item2.name)\n",
    "print(item2.price) \n",
    "print(item2.quantity)"
   ]
  },
  {
   "cell_type": "code",
   "execution_count": 10,
   "metadata": {},
   "outputs": [
    {
     "name": "stdout",
     "output_type": "stream",
     "text": [
      "An instance with name: Keyboard has been derived from Product class\n",
      "Keyboard\n",
      "25.99\n",
      "1\n"
     ]
    }
   ],
   "source": [
    "item3 = Product(\"Keyboard\", 25.99)\n",
    "\n",
    "print(item3.name)\n",
    "print(item3.price) \n",
    "print(item3.quantity)"
   ]
  }
 ],
 "metadata": {
  "kernelspec": {
   "display_name": "Python 3",
   "language": "python",
   "name": "python3"
  },
  "language_info": {
   "codemirror_mode": {
    "name": "ipython",
    "version": 3
   },
   "file_extension": ".py",
   "mimetype": "text/x-python",
   "name": "python",
   "nbconvert_exporter": "python",
   "pygments_lexer": "ipython3",
   "version": "3.12.0"
  }
 },
 "nbformat": 4,
 "nbformat_minor": 2
}
